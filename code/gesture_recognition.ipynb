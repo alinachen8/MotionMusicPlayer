{
 "cells": [
  {
   "cell_type": "code",
   "execution_count": 1,
   "metadata": {},
   "outputs": [],
   "source": [
    "import numpy as np\n",
    "import pandas as pd\n",
    "import torch\n",
    "import scipy.stats as stats\n",
    "from scipy.signal import welch\n",
    "from sklearn import metrics\n",
    "from sklearn.model_selection import train_test_split, GridSearchCV, cross_val_score\n",
    "from sklearn.metrics import accuracy_score, confusion_matrix, classification_report\n",
    "from sklearn.preprocessing import StandardScaler\n",
    "from sklearn.ensemble import RandomForestClassifier\n",
    "import matplotlib.pyplot as plt\n",
    "import joblib\n",
    "import os"
   ]
  },
  {
   "cell_type": "code",
   "execution_count": 2,
   "metadata": {},
   "outputs": [],
   "source": [
    "data_path = '/Users/pranavxiyer/Documents/northwestern/classes/first/spring/machine learning and sensing/MotionMusicPlayer/data'"
   ]
  },
  {
   "cell_type": "markdown",
   "metadata": {},
   "source": [
    "Label Information"
   ]
  },
  {
   "cell_type": "code",
   "execution_count": 3,
   "metadata": {},
   "outputs": [],
   "source": [
    "sampling_frequency = 100"
   ]
  },
  {
   "cell_type": "code",
   "execution_count": 4,
   "metadata": {},
   "outputs": [],
   "source": [
    "label_list = ['rotate_next', 'rotate_prev', 'like', 'stop', 'other']"
   ]
  },
  {
   "cell_type": "code",
   "execution_count": 5,
   "metadata": {},
   "outputs": [],
   "source": [
    "label_to_idx = {\n",
    "    'rotate_next': 0,\n",
    "    'rotate_prev': 1,\n",
    "    'like': 2,\n",
    "    'stop': 3,\n",
    "    'other': 4\n",
    "}"
   ]
  },
  {
   "cell_type": "code",
   "execution_count": 6,
   "metadata": {},
   "outputs": [],
   "source": [
    "idx_to_label = {\n",
    "    0: 'rotate_next',\n",
    "    1: 'rotate_prev',\n",
    "    2: 'like',\n",
    "    3: 'stop',\n",
    "    4: 'other'\n",
    "}"
   ]
  },
  {
   "cell_type": "markdown",
   "metadata": {},
   "source": [
    "Functions for Feature Extraction"
   ]
  },
  {
   "cell_type": "code",
   "execution_count": 7,
   "metadata": {},
   "outputs": [],
   "source": [
    "feature_list = ['mean', 'std', 'energy', 'max_val', 'min_val', 'min_max_range', \n",
    "                'median_above_mean', 'iqr', 'skewness', \n",
    "                'mean_psd', 'std_psd', 'max_psd', 'median_psd', 'min_psd', 'entropy_psd']"
   ]
  },
  {
   "cell_type": "code",
   "execution_count": 8,
   "metadata": {},
   "outputs": [],
   "source": [
    "def mean(signal):\n",
    "    return np.mean(signal)"
   ]
  },
  {
   "cell_type": "code",
   "execution_count": 9,
   "metadata": {},
   "outputs": [],
   "source": [
    "def std(signal):\n",
    "    return np.std(signal)"
   ]
  },
  {
   "cell_type": "code",
   "execution_count": 10,
   "metadata": {},
   "outputs": [],
   "source": [
    "def energy(signal):\n",
    "    return np.sum(np.square(signal)) / len(signal)"
   ]
  },
  {
   "cell_type": "code",
   "execution_count": 11,
   "metadata": {},
   "outputs": [],
   "source": [
    "def max_val(signal):\n",
    "    return np.max(signal)"
   ]
  },
  {
   "cell_type": "code",
   "execution_count": 12,
   "metadata": {},
   "outputs": [],
   "source": [
    "def min_val(signal):\n",
    "    return np.min(signal)"
   ]
  },
  {
   "cell_type": "code",
   "execution_count": 13,
   "metadata": {},
   "outputs": [],
   "source": [
    "def min_max_range(signal):\n",
    "    return np.max(signal) - np.min(signal)"
   ]
  },
  {
   "cell_type": "code",
   "execution_count": 14,
   "metadata": {},
   "outputs": [],
   "source": [
    "def median_above_mean(signal):\n",
    "    mean_val = np.mean(signal)\n",
    "    above_mean = signal[signal > mean_val]\n",
    "    if len(above_mean) > 0:\n",
    "        return np.median(above_mean)\n",
    "    else:\n",
    "        return 0"
   ]
  },
  {
   "cell_type": "code",
   "execution_count": 15,
   "metadata": {},
   "outputs": [],
   "source": [
    "def interquartile_range(signal):\n",
    "    return np.percentile(signal, 75) - np.percentile(signal, 25)"
   ]
  },
  {
   "cell_type": "code",
   "execution_count": 16,
   "metadata": {},
   "outputs": [],
   "source": [
    "def skewness(signal):\n",
    "    return stats.skew(signal)"
   ]
  },
  {
   "cell_type": "code",
   "execution_count": 17,
   "metadata": {},
   "outputs": [],
   "source": [
    "def psd_features(signal, fs):  # fs: sampling frequency\n",
    "    freqs, psd = welch(signal, fs=fs, nperseg=min(len(signal), 256))\n",
    "    mean_psd = np.mean(psd)\n",
    "    std_psd = np.std(psd)\n",
    "    max_psd = np.max(psd)\n",
    "    min_psd = np.min(psd)\n",
    "    median_psd = np.median(psd)\n",
    "    \n",
    "    # Normalize for entropy calculation\n",
    "    psd_norm = psd / np.sum(psd) if np.sum(psd) > 0 else np.ones_like(psd) / len(psd)\n",
    "    entropy = -np.sum(psd_norm * np.log2(psd_norm + 1e-12))  # avoid log(0)\n",
    "    \n",
    "    return {\n",
    "        'mean_psd': mean_psd,\n",
    "        'std_psd': std_psd,\n",
    "        'max_psd': max_psd,\n",
    "        'min_psd': min_psd,\n",
    "        'median_psd': median_psd,\n",
    "        'entropy_psd': entropy\n",
    "    }"
   ]
  },
  {
   "cell_type": "code",
   "execution_count": 18,
   "metadata": {},
   "outputs": [],
   "source": [
    "def extract_features_column(signal, column_name, fs):\n",
    "    features = {}\n",
    "    features[column_name + '_mean'] = mean(signal)\n",
    "    features[column_name + '_std'] = std(signal)\n",
    "    features[column_name + '_energy'] = energy(signal)\n",
    "    features[column_name + '_max_val'] = max_val(signal)\n",
    "    features[column_name + '_min_val'] = min_val(signal)\n",
    "    features[column_name + '_min_max_range'] = min_max_range(signal)\n",
    "    features[column_name + '_median_above_mean'] = median_above_mean(signal)\n",
    "    features[column_name + '_iqr'] = interquartile_range(signal)\n",
    "    features[column_name + '_skewness'] = skewness(signal)\n",
    "\n",
    "    signal_psd_features = psd_features(signal, fs)\n",
    "    for key, value in signal_psd_features.items():\n",
    "        features[column_name + '_' + key] = value\n",
    "    \n",
    "    return features"
   ]
  },
  {
   "cell_type": "code",
   "execution_count": 19,
   "metadata": {},
   "outputs": [],
   "source": [
    "def extract_features(df, fs):\n",
    "    combined_features = {}\n",
    "    for column_name in df.columns:\n",
    "        # print(f\"column name: {column_name}\")\n",
    "        # print(df[column_name])\n",
    "        column_data = df[column_name].to_numpy()\n",
    "        # print(column_data.shape)\n",
    "        column_features = extract_features_column(column_data, column_name, fs)\n",
    "        combined_features.update(column_features)\n",
    "    return combined_features\n"
   ]
  },
  {
   "cell_type": "markdown",
   "metadata": {},
   "source": [
    "***Processing Test Data***"
   ]
  },
  {
   "cell_type": "code",
   "execution_count": 20,
   "metadata": {},
   "outputs": [],
   "source": [
    "X = []\n",
    "y = []\n",
    "\n",
    "total_files = 0\n",
    "\n",
    "for label in label_list:\n",
    "    label_path = os.path.join(data_path, label)\n",
    "    csv_folder = os.path.join(label_path, 'csv')\n",
    "    # print(csv_folder)\n",
    "    for file in os.listdir(csv_folder):\n",
    "        csv_path = os.path.join(csv_folder, file)\n",
    "        if not csv_path.endswith('.csv'):  # Only process .csv files\n",
    "            continue\n",
    "        total_files += 1\n",
    "        df = pd.read_csv(csv_path)\n",
    "        df = df.rename(columns={' pitch': 'pitch'})\n",
    "        df = df[['accel_x', 'accel_y', 'accel_z', 'rotation_x', 'rotation_y', 'rotation_z', 'pitch', 'roll', 'yaw']]\n",
    "        numpy_df = df.to_numpy()\n",
    "        # print(numpy_df.shape)\n",
    "        # print(df.head())\n",
    "        features = extract_features(df, sampling_frequency)\n",
    "        # print(len(features))\n",
    "        X.append(np.array(list(features.values())))\n",
    "        y.append(label_to_idx[label])"
   ]
  },
  {
   "cell_type": "markdown",
   "metadata": {},
   "source": [
    "Running feature extraction one file, just to show what one row in test data X looks like"
   ]
  },
  {
   "cell_type": "code",
   "execution_count": 21,
   "metadata": {},
   "outputs": [],
   "source": [
    "example_path = '/Users/pranavxiyer/Documents/northwestern/classes/first/spring/machine learning and sensing/MotionMusicPlayer/data/rotate_next/csv/rotate_next_1.csv'\n",
    "example_df = pd.read_csv(example_path)\n",
    "example_df = example_df.rename(columns={' pitch': 'pitch'})\n",
    "example_df = example_df[['accel_x', 'accel_y', 'accel_z', 'rotation_x', 'rotation_y', 'rotation_z', 'pitch', 'roll', 'yaw']]\n",
    "example_numpy_df = example_df.to_numpy()\n",
    "example_features = extract_features(example_df, sampling_frequency)"
   ]
  },
  {
   "cell_type": "code",
   "execution_count": 22,
   "metadata": {},
   "outputs": [
    {
     "name": "stdout",
     "output_type": "stream",
     "text": [
      "    accel_x   accel_y   accel_z  rotation_x  rotation_y  rotation_z     pitch  \\\n",
      "0  0.008994 -0.004327  0.014573   -0.018462   -0.009059    0.002848  0.061630   \n",
      "1  0.009387  0.000875  0.011251   -0.015257   -0.010795    0.001079  0.061460   \n",
      "2  0.009782  0.003968  0.009173   -0.011441   -0.001200    0.005005  0.061334   \n",
      "3  0.006795  0.002524  0.007669   -0.009073   -0.003970    0.004009  0.061247   \n",
      "4  0.004537  0.003886  0.007919   -0.008531    0.003799   -0.000902  0.061160   \n",
      "\n",
      "       roll       yaw  \n",
      "0  0.093308 -0.002878  \n",
      "1  0.093204 -0.002843  \n",
      "2  0.093159 -0.002814  \n",
      "3  0.093138 -0.002763  \n",
      "4  0.093138 -0.002749  \n"
     ]
    }
   ],
   "source": [
    "print(example_df.head())"
   ]
  },
  {
   "cell_type": "code",
   "execution_count": 23,
   "metadata": {},
   "outputs": [
    {
     "name": "stdout",
     "output_type": "stream",
     "text": [
      "{'accel_x_mean': -0.007915202821028668, 'accel_x_std': 0.054905288282534326, 'accel_x_energy': 0.0030772411170862215, 'accel_x_max_val': 0.1557944416999817, 'accel_x_min_val': -0.300251841545105, 'accel_x_min_max_range': 0.45604628324508667, 'accel_x_median_above_mean': 0.00454863486811515, 'accel_x_iqr': 0.025558864697813898, 'accel_x_skewness': -1.6807061679827917, 'accel_x_mean_psd': 9.539751699533137e-05, 'accel_x_std_psd': 0.0002545135486886539, 'accel_x_max_psd': 0.001652299314774609, 'accel_x_min_psd': 1.3437118983779254e-08, 'accel_x_median_psd': 6.217549424435451e-06, 'accel_x_entropy_psd': 4.756074371394116, 'accel_y_mean': 0.017957578765159864, 'accel_y_std': 0.17919877183876684, 'accel_y_energy': 0.032434674463629326, 'accel_y_max_val': 1.0747255086898804, 'accel_y_min_val': -0.6119800209999084, 'accel_y_min_max_range': 1.6867055296897888, 'accel_y_median_above_mean': 0.06151790171861645, 'accel_y_iqr': 0.02584247663617125, 'accel_y_skewness': 2.618018149281359, 'accel_y_mean_psd': 0.001528554689659108, 'accel_y_std_psd': 0.004016627946444224, 'accel_y_max_psd': 0.028529545230793287, 'accel_y_min_psd': 1.3201813224241322e-07, 'accel_y_median_psd': 5.8402503579436594e-05, 'accel_y_entropy_psd': 4.653369876065316, 'accel_z_mean': 0.04461368974485125, 'accel_z_std': 0.16926383766793476, 'accel_z_energy': 0.030640628054726816, 'accel_z_max_val': 1.0367214679718018, 'accel_z_min_val': -0.2911745905876159, 'accel_z_min_max_range': 1.3278960585594177, 'accel_z_median_above_mean': 0.13902795314788816, 'accel_z_iqr': 0.0244735181331633, 'accel_z_skewness': 3.8394253059065675, 'accel_z_mean_psd': 0.0009330190765485339, 'accel_z_std_psd': 0.0029004968378504546, 'accel_z_max_psd': 0.01697329343145346, 'accel_z_min_psd': 1.453918076663538e-08, 'accel_z_median_psd': 1.0520694171126176e-05, 'accel_z_entropy_psd': 4.064248734660695, 'rotation_x_mean': 0.0081950041058981, 'rotation_x_std': 4.545273426384564, 'rotation_x_energy': 20.65957767868997, 'rotation_x_max_val': 17.47617530822754, 'rotation_x_min_val': -18.78047752380371, 'rotation_x_min_max_range': 36.25665283203125, 'rotation_x_median_above_mean': 0.11771947517991065, 'rotation_x_iqr': 0.23165449313819403, 'rotation_x_skewness': -0.5576151647921307, 'rotation_x_mean_psd': 0.9762078050272224, 'rotation_x_std_psd': 4.261023456821159, 'rotation_x_max_psd': 35.07784155834399, 'rotation_x_min_psd': 1.3278383077417732e-06, 'rotation_x_median_psd': 8.617778931700666e-05, 'rotation_x_entropy_psd': 3.1860071264459817, 'rotation_y_mean': 0.018632283241933466, 'rotation_y_std': 0.5459505611587394, 'rotation_y_energy': 0.29840917720835014, 'rotation_y_max_val': 2.99881911277771, 'rotation_y_min_val': -2.0512166023254395, 'rotation_y_min_max_range': 5.050035715103149, 'rotation_y_median_above_mean': 0.1855580061674118, 'rotation_y_iqr': 0.16042029857635487, 'rotation_y_skewness': 1.897079923608959, 'rotation_y_mean_psd': 0.011036182710694013, 'rotation_y_std_psd': 0.04467528231736472, 'rotation_y_max_psd': 0.39653225469933134, 'rotation_y_min_psd': 6.118079724876889e-07, 'rotation_y_median_psd': 5.4930431887103796e-05, 'rotation_y_entropy_psd': 3.702459017552965, 'rotation_z_mean': -0.09637428463256005, 'rotation_z_std': 0.8562148668484756, 'rotation_z_energy': 0.7423919009507906, 'rotation_z_max_val': 2.023143768310547, 'rotation_z_min_val': -4.111433982849121, 'rotation_z_min_max_range': 6.134577751159668, 'rotation_z_median_above_mean': 0.01095710974186655, 'rotation_z_iqr': 0.1292408630251883, 'rotation_z_skewness': -2.0075598656645752, 'rotation_z_mean_psd': 0.0374919142320018, 'rotation_z_std_psd': 0.17386387946189122, 'rotation_z_max_psd': 1.4371013197272187, 'rotation_z_min_psd': 2.5219734289881524e-07, 'rotation_z_median_psd': 2.4843462913958382e-05, 'rotation_z_entropy_psd': 3.019355975542396, 'pitch_mean': -0.16128492480515222, 'pitch_std': 0.3544890043272384, 'pitch_energy': 0.15167528115832046, 'pitch_max_val': 0.0707643553763491, 'pitch_min_val': -1.393528817319711, 'pitch_min_max_range': 1.46429317269606, 'pitch_median_above_mean': 0.03280452805988105, 'pitch_iqr': 0.28297730106357577, 'pitch_skewness': -1.737549132674179, 'pitch_mean_psd': 0.0047130401889381186, 'pitch_std_psd': 0.022616648828361393, 'pitch_max_psd': 0.20310920471647775, 'pitch_min_psd': 9.668534873013573e-09, 'pitch_median_psd': 8.984450139591465e-07, 'pitch_entropy_psd': 2.985581852476059, 'roll_mean': -0.3906323413178925, 'roll_std': 1.105880065364048, 'roll_energy': 1.3755643450530897, 'roll_max_val': 0.259432299260771, 'roll_min_val': -2.773089021267982, 'roll_min_max_range': 3.0325213205287533, 'roll_median_above_mean': 0.09970211484479495, 'roll_iqr': 0.16660645333091847, 'roll_skewness': -1.5846315308680723, 'roll_mean_psd': 0.05324422140188233, 'roll_std_psd': 0.30746742954937106, 'roll_max_psd': 2.516153295650551, 'roll_min_psd': 3.2111700434734496e-07, 'roll_median_psd': 4.1017513839061744e-05, 'roll_entropy_psd': 2.3820068471694844, 'yaw_mean': -0.5492366297656298, 'yaw_std': 1.0791220560062718, 'yaw_energy': 1.4661652872355107, 'yaw_max_val': 0.0152096300313225, 'yaw_min_val': -2.911461021942527, 'yaw_min_max_range': 2.9266706519738497, 'yaw_median_above_mean': -0.00348111251737265, 'yaw_iqr': 0.06836266885042096, 'yaw_skewness': -1.6037190145172002, 'yaw_mean_psd': 0.052182498958475314, 'yaw_std_psd': 0.29865509519827743, 'yaw_max_psd': 2.4695987227562903, 'yaw_min_psd': 3.329527986465647e-07, 'yaw_median_psd': 4.203675843909702e-05, 'yaw_entropy_psd': 2.4229109498671897}\n"
     ]
    }
   ],
   "source": [
    "print(example_features)"
   ]
  },
  {
   "cell_type": "code",
   "execution_count": 24,
   "metadata": {},
   "outputs": [],
   "source": [
    "X = np.array(X)\n",
    "y = np.array(y)"
   ]
  },
  {
   "cell_type": "code",
   "execution_count": 25,
   "metadata": {},
   "outputs": [
    {
     "name": "stdout",
     "output_type": "stream",
     "text": [
      "(100, 135)\n",
      "(100,)\n"
     ]
    }
   ],
   "source": [
    "print(X.shape)\n",
    "print(y.shape)\n"
   ]
  },
  {
   "cell_type": "markdown",
   "metadata": {},
   "source": [
    "***Random Forest***"
   ]
  },
  {
   "cell_type": "code",
   "execution_count": 26,
   "metadata": {},
   "outputs": [],
   "source": [
    "train_X, test_X, train_y, test_y = train_test_split(X, y, test_size=0.2, random_state=42)"
   ]
  },
  {
   "cell_type": "code",
   "execution_count": 27,
   "metadata": {},
   "outputs": [],
   "source": [
    "scaler = StandardScaler()\n",
    "train_X = scaler.fit_transform(train_X)\n",
    "test_X = scaler.transform(test_X)"
   ]
  },
  {
   "cell_type": "code",
   "execution_count": 28,
   "metadata": {},
   "outputs": [
    {
     "data": {
      "text/plain": [
       "['/Users/pranavxiyer/Documents/northwestern/classes/first/spring/machine learning and sensing/MotionMusicPlayer/scaler/scaler.joblib']"
      ]
     },
     "execution_count": 28,
     "metadata": {},
     "output_type": "execute_result"
    }
   ],
   "source": [
    "scaler_path = '/Users/pranavxiyer/Documents/northwestern/classes/first/spring/machine learning and sensing/MotionMusicPlayer/scaler/scaler.joblib'\n",
    "joblib.dump(scaler, scaler_path)"
   ]
  },
  {
   "cell_type": "code",
   "execution_count": 29,
   "metadata": {},
   "outputs": [],
   "source": [
    "random_forest = RandomForestClassifier(n_estimators=100, random_state=42)"
   ]
  },
  {
   "cell_type": "code",
   "execution_count": 30,
   "metadata": {},
   "outputs": [],
   "source": [
    "def train_and_evaluate_model(model, X_train, X_test, y_train, y_test, validation=False):\n",
    "    model.fit(X_train, y_train)\n",
    "\n",
    "    y_pred = model.predict(X_test)\n",
    "    accuracy = accuracy_score(y_test, y_pred)\n",
    "\n",
    "    return model, accuracy"
   ]
  },
  {
   "cell_type": "code",
   "execution_count": 31,
   "metadata": {},
   "outputs": [
    {
     "name": "stdout",
     "output_type": "stream",
     "text": [
      "model:  RandomForestClassifier(random_state=42)\n",
      "model accuracy:  1.0\n"
     ]
    }
   ],
   "source": [
    "random_forest, accuracy = train_and_evaluate_model(random_forest, train_X, test_X, train_y, test_y)\n",
    "print(\"model: \", random_forest)\n",
    "print(\"model accuracy: \", accuracy)"
   ]
  },
  {
   "cell_type": "code",
   "execution_count": 32,
   "metadata": {},
   "outputs": [
    {
     "data": {
      "text/plain": [
       "['/Users/pranavxiyer/Documents/northwestern/classes/first/spring/machine learning and sensing/MotionMusicPlayer/models/random_forest.joblib']"
      ]
     },
     "execution_count": 32,
     "metadata": {},
     "output_type": "execute_result"
    }
   ],
   "source": [
    "model_path = '/Users/pranavxiyer/Documents/northwestern/classes/first/spring/machine learning and sensing/MotionMusicPlayer/models'\n",
    "random_forest_path = os.path.join(model_path, 'random_forest.joblib')\n",
    "joblib.dump(random_forest, random_forest_path)"
   ]
  },
  {
   "cell_type": "code",
   "execution_count": 33,
   "metadata": {},
   "outputs": [],
   "source": [
    "holdout_data_path = '/Users/pranavxiyer/Documents/northwestern/classes/first/spring/machine learning and sensing/MotionMusicPlayer/holdout_data'"
   ]
  },
  {
   "cell_type": "code",
   "execution_count": 34,
   "metadata": {},
   "outputs": [],
   "source": [
    "holdout_X = []\n",
    "holdout_y = []\n",
    "total_holdout_files = 0\n",
    "\n",
    "for label in label_list:\n",
    "    holdout_label_path = os.path.join(holdout_data_path, label)\n",
    "    \n",
    "    for holdout_csv in os.listdir(holdout_label_path):\n",
    "        csv_path = os.path.join(holdout_label_path, holdout_csv)\n",
    "        if not csv_path.endswith('.csv'):  # Only process .csv files\n",
    "            continue\n",
    "        total_holdout_files += 1\n",
    "        df = pd.read_csv(csv_path)\n",
    "        df = df.rename(columns={' pitch': 'pitch'})\n",
    "        df = df[['accel_x', 'accel_y', 'accel_z', 'rotation_x', 'rotation_y', 'rotation_z', 'pitch', 'roll', 'yaw']]\n",
    "        numpy_df = df.to_numpy()\n",
    "        # print(numpy_df.shape)\n",
    "        # print(df.head())\n",
    "        features = extract_features(df, sampling_frequency)\n",
    "        # print(len(features))\n",
    "        holdout_X.append(np.array(list(features.values())))\n",
    "        holdout_y.append(label_to_idx[label])"
   ]
  },
  {
   "cell_type": "code",
   "execution_count": 35,
   "metadata": {},
   "outputs": [],
   "source": [
    "holdout_X = np.array(holdout_X)\n",
    "holdout_y = np.array(holdout_y)"
   ]
  },
  {
   "cell_type": "code",
   "execution_count": 36,
   "metadata": {},
   "outputs": [
    {
     "name": "stdout",
     "output_type": "stream",
     "text": [
      "(25, 135)\n",
      "(25,)\n"
     ]
    }
   ],
   "source": [
    "print(holdout_X.shape)\n",
    "print(holdout_y.shape)"
   ]
  },
  {
   "cell_type": "code",
   "execution_count": 37,
   "metadata": {},
   "outputs": [],
   "source": [
    "holdout_X = scaler.transform(holdout_X)"
   ]
  },
  {
   "cell_type": "code",
   "execution_count": 38,
   "metadata": {},
   "outputs": [
    {
     "data": {
      "text/plain": [
       "0.8"
      ]
     },
     "execution_count": 38,
     "metadata": {},
     "output_type": "execute_result"
    }
   ],
   "source": [
    "y_pred_rf = random_forest.predict(holdout_X)\n",
    "holdout_accuracy_rf = accuracy_score(holdout_y, y_pred_rf)\n",
    "holdout_accuracy_rf"
   ]
  },
  {
   "cell_type": "code",
   "execution_count": 39,
   "metadata": {},
   "outputs": [
    {
     "data": {
      "image/png": "[encoded data removed]",
      "text/plain": [
       "<Figure size 640x480 with 2 Axes>"
      ]
     },
     "metadata": {},
     "output_type": "display_data"
    }
   ],
   "source": [
    "rf_confusion_matrix = confusion_matrix(holdout_y, y_pred_rf, labels=[0, 1, 2, 3, 4])\n",
    "rf_cm_display = metrics.ConfusionMatrixDisplay(confusion_matrix = rf_confusion_matrix, display_labels = label_list)\n",
    "rf_cm_display.plot()\n",
    "plt.title('Random Forest Confusion Matrix')\n",
    "plt.xticks(rotation=60)\n",
    "plt.show()"
   ]
  },
  {
   "cell_type": "markdown",
   "metadata": {},
   "source": [
    "Neural Network (Linear Layers)"
   ]
  },
  {
   "cell_type": "code",
   "execution_count": 40,
   "metadata": {},
   "outputs": [],
   "source": [
    "import torch.nn as nn\n",
    "\n",
    "input_size = 9 * 15 # 9 sensors * 15 features\n",
    "output_size = 5  # 5 gesture classes\n",
    "\n",
    "model = nn.Sequential(\n",
    "    # Layer 1: Input -> Hidden\n",
    "    nn.Linear(input_size, 256),\n",
    "    nn.ReLU(),\n",
    "    nn.BatchNorm1d(256),\n",
    "    nn.Dropout(0.3),\n",
    "    \n",
    "    # Layer 2: Hidden -> Hidden\n",
    "    nn.Linear(256, 128),\n",
    "    nn.ReLU(),\n",
    "    nn.BatchNorm1d(128),\n",
    "    nn.Dropout(0.3),\n",
    "    \n",
    "    # Layer 3: Hidden -> Hidden\n",
    "    nn.Linear(128, 64),\n",
    "    nn.ReLU(),\n",
    "    nn.BatchNorm1d(64),\n",
    "    nn.Dropout(0.3),\n",
    "    \n",
    "    # Layer 4: Hidden -> Hidden\n",
    "    nn.Linear(64, 32),\n",
    "    nn.ReLU(),\n",
    "    nn.BatchNorm1d(32),\n",
    "    nn.Dropout(0.3),\n",
    "    \n",
    "    # Layer 5: Hidden -> Output\n",
    "    nn.Linear(32, output_size)\n",
    ")"
   ]
  },
  {
   "cell_type": "code",
   "execution_count": 41,
   "metadata": {},
   "outputs": [],
   "source": [
    "train_X_tensor = torch.tensor(train_X, dtype=torch.float32)\n",
    "train_y_tensor = torch.tensor(train_y, dtype=torch.long)\n",
    "test_X_tensor = torch.tensor(test_X, dtype=torch.float32)\n",
    "test_y_tensor = torch.tensor(test_y, dtype=torch.long)"
   ]
  },
  {
   "cell_type": "code",
   "execution_count": 42,
   "metadata": {},
   "outputs": [],
   "source": [
    "learning_rate = 0.001\n",
    "num_epochs = 25\n",
    "batch_size = 32\n",
    "\n",
    "criterion = nn.CrossEntropyLoss()\n",
    "optimizer = torch.optim.Adam(model.parameters(), lr=learning_rate)"
   ]
  },
  {
   "cell_type": "code",
   "execution_count": 43,
   "metadata": {},
   "outputs": [],
   "source": [
    "train_dataset = torch.utils.data.TensorDataset(train_X_tensor, train_y_tensor)\n",
    "train_loader = torch.utils.data.DataLoader(train_dataset, batch_size=batch_size, shuffle=True)"
   ]
  },
  {
   "cell_type": "code",
   "execution_count": 44,
   "metadata": {},
   "outputs": [
    {
     "name": "stdout",
     "output_type": "stream",
     "text": [
      "Epoch [5/25], Train Loss: 0.7779, Train Acc: 83.75%, Test Loss: 1.2147, Test Acc: 85.00%\n",
      "Epoch [10/25], Train Loss: 0.4924, Train Acc: 93.75%, Test Loss: 0.6095, Test Acc: 90.00%\n",
      "Epoch [15/25], Train Loss: 0.4018, Train Acc: 100.00%, Test Loss: 0.3512, Test Acc: 100.00%\n",
      "Epoch [20/25], Train Loss: 0.3494, Train Acc: 95.00%, Test Loss: 0.2445, Test Acc: 100.00%\n",
      "Epoch [25/25], Train Loss: 0.2659, Train Acc: 97.50%, Test Loss: 0.1888, Test Acc: 100.00%\n"
     ]
    }
   ],
   "source": [
    "# 5. Training loop\n",
    "train_losses = []\n",
    "test_losses = []\n",
    "train_accuracies = []\n",
    "test_accuracies = []\n",
    "\n",
    "for epoch in range(num_epochs):\n",
    "    model.train()  # Set model to training mode\n",
    "    running_loss = 0.0\n",
    "    correct = 0\n",
    "    total = 0\n",
    "    \n",
    "    # Training loop\n",
    "    for inputs, labels in train_loader:\n",
    "        # Zero the parameter gradients\n",
    "        optimizer.zero_grad()\n",
    "        \n",
    "        # Forward pass\n",
    "        outputs = model(inputs)\n",
    "        loss = criterion(outputs, labels)\n",
    "        \n",
    "        # Backward pass and optimize\n",
    "        loss.backward()\n",
    "        optimizer.step()\n",
    "        \n",
    "        # Track statistics\n",
    "        running_loss += loss.item()\n",
    "        _, predicted = torch.max(outputs.data, 1)\n",
    "        total += labels.size(0)\n",
    "        correct += (predicted == labels).sum().item()\n",
    "    \n",
    "    # Calculate epoch statistics\n",
    "    epoch_loss = running_loss / len(train_loader)\n",
    "    epoch_accuracy = 100 * correct / total\n",
    "    train_losses.append(epoch_loss)\n",
    "    train_accuracies.append(epoch_accuracy)\n",
    "    \n",
    "    # Evaluation on test set\n",
    "    model.eval()  # Set model to evaluation mode\n",
    "    with torch.no_grad():\n",
    "        test_outputs = model(test_X_tensor)\n",
    "        test_loss = criterion(test_outputs, test_y_tensor)\n",
    "        _, predicted = torch.max(test_outputs.data, 1)\n",
    "        test_accuracy = 100 * ((predicted == test_y_tensor).sum().item() / test_y_tensor.size(0))\n",
    "        test_losses.append(test_loss.item())\n",
    "        test_accuracies.append(test_accuracy)\n",
    "    \n",
    "    # Print progress\n",
    "    if (epoch + 1) % 5 == 0:\n",
    "        print(f'Epoch [{epoch+1}/{num_epochs}], '\n",
    "              f'Train Loss: {epoch_loss:.4f}, '\n",
    "              f'Train Acc: {epoch_accuracy:.2f}%, '\n",
    "              f'Test Loss: {test_loss:.4f}, '\n",
    "              f'Test Acc: {test_accuracy:.2f}%')"
   ]
  },
  {
   "cell_type": "code",
   "execution_count": 45,
   "metadata": {},
   "outputs": [],
   "source": [
    "model_path = '/Users/pranavxiyer/Documents/northwestern/classes/first/spring/machine learning and sensing/MotionMusicPlayer/models'\n",
    "nn_name = 'neural_net.pth'\n",
    "nn_path = os.path.join(model_path, nn_name)\n",
    "torch.save(model.state_dict(), nn_path)"
   ]
  },
  {
   "cell_type": "code",
   "execution_count": 46,
   "metadata": {},
   "outputs": [],
   "source": [
    "holdout_X_tensor = torch.tensor(holdout_X, dtype=torch.float32)\n",
    "holdout_y_tensor = torch.tensor(holdout_y, dtype=torch.long)"
   ]
  },
  {
   "cell_type": "code",
   "execution_count": 47,
   "metadata": {},
   "outputs": [
    {
     "name": "stdout",
     "output_type": "stream",
     "text": [
      "Holdout Loss: 0.8494\n",
      "Holdout Accuracy: 92.00%\n"
     ]
    }
   ],
   "source": [
    "# Evaluate on holdout data\n",
    "model.eval()  # Set model to evaluation mode\n",
    "with torch.no_grad():\n",
    "    holdout_outputs = model(holdout_X_tensor)\n",
    "    holdout_loss = criterion(holdout_outputs, holdout_y_tensor)\n",
    "    _, predicted = torch.max(holdout_outputs.data, 1)\n",
    "    holdout_accuracy = 100 * ((predicted == holdout_y_tensor).sum().item() / holdout_y_tensor.size(0))\n",
    "    \n",
    "    # Print results\n",
    "    print(f'Holdout Loss: {holdout_loss:.4f}')\n",
    "    print(f'Holdout Accuracy: {holdout_accuracy:.2f}%')"
   ]
  },
  {
   "cell_type": "code",
   "execution_count": 48,
   "metadata": {},
   "outputs": [
    {
     "data": {
      "image/png": "[encoded data removed]",
      "text/plain": [
       "<Figure size 640x480 with 2 Axes>"
      ]
     },
     "metadata": {},
     "output_type": "display_data"
    }
   ],
   "source": [
    "nn_confusion_matrix = confusion_matrix(holdout_y, predicted, labels=[0, 1, 2, 3, 4])\n",
    "nn_cm_display = metrics.ConfusionMatrixDisplay(confusion_matrix = nn_confusion_matrix, display_labels = label_list)\n",
    "nn_cm_display.plot()\n",
    "plt.title('Neural Network Confusion Matrix')\n",
    "plt.xticks(rotation=60)\n",
    "plt.show()"
   ]
  }
 ],
 "metadata": {
  "kernelspec": {
   "display_name": "Python 3",
   "language": "python",
   "name": "python3"
  },
  "language_info": {
   "codemirror_mode": {
    "name": "ipython",
    "version": 3
   },
   "file_extension": ".py",
   "mimetype": "text/x-python",
   "name": "python",
   "nbconvert_exporter": "python",
   "pygments_lexer": "ipython3",
   "version": "3.11.11"
  }
 },
 "nbformat": 4,
 "nbformat_minor": 2
}
