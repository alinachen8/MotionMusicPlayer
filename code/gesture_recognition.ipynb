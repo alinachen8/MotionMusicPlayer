{
 "cells": [
  {
   "cell_type": "code",
   "execution_count": 1,
   "metadata": {},
   "outputs": [],
   "source": [
    "import numpy as np\n",
    "import pandas as pd\n",
    "import torch\n",
    "import scipy.stats as stats\n",
    "from scipy.signal import welch\n",
    "from sklearn.model_selection import train_test_split, GridSearchCV, cross_val_score\n",
    "from sklearn.metrics import accuracy_score, confusion_matrix, classification_report\n",
    "from sklearn.preprocessing import StandardScaler\n",
    "from sklearn.ensemble import RandomForestClassifier\n",
    "import joblib\n",
    "import os"
   ]
  },
  {
   "cell_type": "code",
   "execution_count": 2,
   "metadata": {},
   "outputs": [],
   "source": [
    "data_path = '/Users/pranavxiyer/Documents/northwestern/classes/first/spring/machine learning and sensing/project/data'"
   ]
  },
  {
   "cell_type": "markdown",
   "metadata": {},
   "source": [
    "Label Information"
   ]
  },
  {
   "cell_type": "code",
   "execution_count": 3,
   "metadata": {},
   "outputs": [],
   "source": [
    "sampling_frequency = 100"
   ]
  },
  {
   "cell_type": "code",
   "execution_count": 4,
   "metadata": {},
   "outputs": [],
   "source": [
    "label_list = ['rotate_next', 'rotate_prev', 'like', 'stop', 'other']"
   ]
  },
  {
   "cell_type": "code",
   "execution_count": 5,
   "metadata": {},
   "outputs": [],
   "source": [
    "label_to_idx = {\n",
    "    'rotate_next': 0,\n",
    "    'rotate_prev': 1,\n",
    "    'like': 2,\n",
    "    'stop': 3,\n",
    "    'other': 4\n",
    "}"
   ]
  },
  {
   "cell_type": "code",
   "execution_count": 6,
   "metadata": {},
   "outputs": [],
   "source": [
    "idx_to_label = {\n",
    "    0: 'rotate_next',\n",
    "    1: 'rotate_prev',\n",
    "    2: 'like',\n",
    "    3: 'stop',\n",
    "    4: 'other'\n",
    "}"
   ]
  },
  {
   "cell_type": "markdown",
   "metadata": {},
   "source": [
    "Functions for Feature Extraction"
   ]
  },
  {
   "cell_type": "code",
   "execution_count": 7,
   "metadata": {},
   "outputs": [],
   "source": [
    "feature_list = ['mean', 'std', 'energy', 'max_val', 'min_val', 'min_max_range', \n",
    "                'median_above_mean', 'iqr', 'skewness', \n",
    "                'mean_psd', 'std_psd', 'max_psd', 'median_psd', 'min_psd', 'entropy_psd']"
   ]
  },
  {
   "cell_type": "code",
   "execution_count": 8,
   "metadata": {},
   "outputs": [],
   "source": [
    "def mean(signal):\n",
    "    return np.mean(signal)"
   ]
  },
  {
   "cell_type": "code",
   "execution_count": 9,
   "metadata": {},
   "outputs": [],
   "source": [
    "def std(signal):\n",
    "    return np.std(signal)"
   ]
  },
  {
   "cell_type": "code",
   "execution_count": 10,
   "metadata": {},
   "outputs": [],
   "source": [
    "def energy(signal):\n",
    "    return np.sum(np.square(signal)) / len(signal)"
   ]
  },
  {
   "cell_type": "code",
   "execution_count": 11,
   "metadata": {},
   "outputs": [],
   "source": [
    "def max_val(signal):\n",
    "    return np.max(signal)"
   ]
  },
  {
   "cell_type": "code",
   "execution_count": 12,
   "metadata": {},
   "outputs": [],
   "source": [
    "def min_max_range(signal):\n",
    "    return np.max(signal) - np.min(signal)"
   ]
  },
  {
   "cell_type": "code",
   "execution_count": 13,
   "metadata": {},
   "outputs": [],
   "source": [
    "def min_val(signal):\n",
    "    return np.min(signal)"
   ]
  },
  {
   "cell_type": "code",
   "execution_count": 14,
   "metadata": {},
   "outputs": [],
   "source": [
    "def median_above_mean(signal):\n",
    "    mean_val = np.mean(signal)\n",
    "    above_mean = signal[signal > mean_val]\n",
    "    if len(above_mean) > 0:\n",
    "        return np.median(above_mean)\n",
    "    else:\n",
    "        return 0"
   ]
  },
  {
   "cell_type": "code",
   "execution_count": 15,
   "metadata": {},
   "outputs": [],
   "source": [
    "def interquartile_range(signal):\n",
    "    return np.percentile(signal, 75) - np.percentile(signal, 25)"
   ]
  },
  {
   "cell_type": "code",
   "execution_count": 16,
   "metadata": {},
   "outputs": [],
   "source": [
    "def skewness(signal):\n",
    "    return stats.skew(signal)"
   ]
  },
  {
   "cell_type": "code",
   "execution_count": 17,
   "metadata": {},
   "outputs": [],
   "source": [
    "def psd_features(signal, fs):  # fs: sampling frequency\n",
    "    freqs, psd = welch(signal, fs=fs, nperseg=min(len(signal), 256))\n",
    "    mean_psd = np.mean(psd)\n",
    "    std_psd = np.std(psd)\n",
    "    max_psd = np.max(psd)\n",
    "    min_psd = np.min(psd)\n",
    "    median_psd = np.median(psd)\n",
    "    \n",
    "    # Normalize for entropy calculation\n",
    "    psd_norm = psd / np.sum(psd) if np.sum(psd) > 0 else np.ones_like(psd) / len(psd)\n",
    "    entropy = -np.sum(psd_norm * np.log2(psd_norm + 1e-12))  # avoid log(0)\n",
    "    \n",
    "    return {\n",
    "        'mean_psd': mean_psd,\n",
    "        'std_psd': std_psd,\n",
    "        'max_psd': max_psd,\n",
    "        'min_psd': min_psd,\n",
    "        'median_psd': median_psd,\n",
    "        'entropy_psd': entropy\n",
    "    }"
   ]
  },
  {
   "cell_type": "code",
   "execution_count": 18,
   "metadata": {},
   "outputs": [],
   "source": [
    "def extract_features_column(signal, column_name, fs):\n",
    "    features = {}\n",
    "    features[column_name + '_mean'] = mean(signal)\n",
    "    features[column_name + '_std'] = std(signal)\n",
    "    features[column_name + '_energy'] = energy(signal)\n",
    "    features[column_name + '_max_val'] = max_val(signal)\n",
    "    features[column_name + '_min_val'] = min_val(signal)\n",
    "    features[column_name + '_min_max_range'] = min_max_range(signal)\n",
    "    features[column_name + '_median_above_mean'] = median_above_mean(signal)\n",
    "    features[column_name + '_iqr'] = interquartile_range(signal)\n",
    "    features[column_name + '_skewness'] = skewness(signal)\n",
    "\n",
    "    signal_psd_features = psd_features(signal, fs)\n",
    "    for key, value in signal_psd_features.items():\n",
    "        features[column_name + '_' + key] = value\n",
    "    \n",
    "    return features"
   ]
  },
  {
   "cell_type": "code",
   "execution_count": 19,
   "metadata": {},
   "outputs": [],
   "source": [
    "def extract_features(df, fs):\n",
    "    combined_features = {}\n",
    "    for column_name in df.columns:\n",
    "        # print(f\"column name: {column_name}\")\n",
    "        # print(df[column_name])\n",
    "        column_data = df[column_name].to_numpy()\n",
    "        # print(column_data.shape)\n",
    "        column_features = extract_features_column(column_data, column_name, fs)\n",
    "        combined_features.update(column_features)\n",
    "    return combined_features\n"
   ]
  },
  {
   "cell_type": "code",
   "execution_count": 20,
   "metadata": {},
   "outputs": [],
   "source": [
    "X = []\n",
    "y = []\n",
    "\n",
    "total_files = 0\n",
    "\n",
    "for label in label_list:\n",
    "    label_path = os.path.join(data_path, label)\n",
    "    csv_folder = os.path.join(label_path, 'csv')\n",
    "    # print(csv_folder)\n",
    "    for file in os.listdir(csv_folder):\n",
    "        csv_path = os.path.join(csv_folder, file)\n",
    "        # print(csv_path)\n",
    "        total_files += 1\n",
    "        df = pd.read_csv(csv_path)\n",
    "        df = df.rename(columns={' pitch': 'pitch'})\n",
    "        df = df[['accel_x', 'accel_y', 'accel_z', 'rotation_x', 'rotation_y', 'rotation_z', 'pitch', 'roll', 'yaw']]\n",
    "        numpy_df = df.to_numpy()\n",
    "        # print(numpy_df.shape)\n",
    "        # print(df.head())\n",
    "        features = extract_features(df, sampling_frequency)\n",
    "        # print(len(features))\n",
    "        X.append(np.array(list(features.values())))\n",
    "        y.append(label_to_idx[label])"
   ]
  },
  {
   "cell_type": "code",
   "execution_count": 21,
   "metadata": {},
   "outputs": [],
   "source": [
    "X = np.array(X)\n",
    "y = np.array(y)"
   ]
  },
  {
   "cell_type": "code",
   "execution_count": 22,
   "metadata": {},
   "outputs": [
    {
     "name": "stdout",
     "output_type": "stream",
     "text": [
      "(88, 135)\n",
      "(88,)\n"
     ]
    }
   ],
   "source": [
    "print(X.shape)\n",
    "print(y.shape)\n"
   ]
  },
  {
   "cell_type": "markdown",
   "metadata": {},
   "source": [
    "Random Forest"
   ]
  },
  {
   "cell_type": "code",
   "execution_count": 23,
   "metadata": {},
   "outputs": [],
   "source": [
    "train_X, test_X, train_y, test_y = train_test_split(X, y, test_size=0.2, random_state=42)"
   ]
  },
  {
   "cell_type": "code",
   "execution_count": 24,
   "metadata": {},
   "outputs": [],
   "source": [
    "scaler = StandardScaler()\n",
    "train_X = scaler.fit_transform(train_X)\n",
    "test_X = scaler.transform(test_X)"
   ]
  },
  {
   "cell_type": "code",
   "execution_count": 25,
   "metadata": {},
   "outputs": [],
   "source": [
    "random_forest = RandomForestClassifier(n_estimators=100, random_state=42)"
   ]
  },
  {
   "cell_type": "code",
   "execution_count": 26,
   "metadata": {},
   "outputs": [],
   "source": [
    "def train_and_evaluate_model(model, X_train, X_test, y_train, y_test, validation=False):\n",
    "    model.fit(X_train, y_train)\n",
    "\n",
    "    y_pred = model.predict(X_test)\n",
    "    accuracy = accuracy_score(y_test, y_pred)\n",
    "\n",
    "    return model, accuracy"
   ]
  },
  {
   "cell_type": "code",
   "execution_count": 27,
   "metadata": {},
   "outputs": [
    {
     "name": "stdout",
     "output_type": "stream",
     "text": [
      "model:  RandomForestClassifier(random_state=42)\n",
      "model accuracy:  1.0\n"
     ]
    }
   ],
   "source": [
    "random_forest, accuracy = train_and_evaluate_model(random_forest, train_X, test_X, train_y, test_y)\n",
    "print(\"model: \", random_forest)\n",
    "print(\"model accuracy: \", accuracy)"
   ]
  },
  {
   "cell_type": "code",
   "execution_count": 28,
   "metadata": {},
   "outputs": [
    {
     "data": {
      "text/plain": [
       "['/Users/pranavxiyer/Documents/northwestern/classes/first/spring/machine learning and sensing/project/models/random_forest.joblib']"
      ]
     },
     "execution_count": 28,
     "metadata": {},
     "output_type": "execute_result"
    }
   ],
   "source": [
    "model_path = '/Users/pranavxiyer/Documents/northwestern/classes/first/spring/machine learning and sensing/project/models'\n",
    "random_forest_path = os.path.join(model_path, 'random_forest.joblib')\n",
    "joblib.dump(random_forest, random_forest_path)"
   ]
  },
  {
   "cell_type": "code",
   "execution_count": 29,
   "metadata": {},
   "outputs": [
    {
     "data": {
      "text/plain": [
       "['/Users/pranavxiyer/Documents/northwestern/classes/first/spring/machine learning and sensing/project/scaler/standard_scaler.joblib']"
      ]
     },
     "execution_count": 29,
     "metadata": {},
     "output_type": "execute_result"
    }
   ],
   "source": [
    "scaler_path = '/Users/pranavxiyer/Documents/northwestern/classes/first/spring/machine learning and sensing/project/scaler'\n",
    "standard_scaler_path = os.path.join(scaler_path, 'standard_scaler.joblib')\n",
    "joblib.dump(scaler, standard_scaler_path)"
   ]
  },
  {
   "cell_type": "markdown",
   "metadata": {},
   "source": [
    "Neural Network (Linear Layers)"
   ]
  },
  {
   "cell_type": "code",
   "execution_count": 668,
   "metadata": {},
   "outputs": [],
   "source": [
    "import torch.nn as nn\n",
    "\n",
    "input_size = 9 * 15 # 9 sensors * 15 features\n",
    "output_size = 5  # 5 gesture classes\n",
    "\n",
    "model = nn.Sequential(\n",
    "    # Layer 1: Input -> Hidden\n",
    "    nn.Linear(input_size, 256),\n",
    "    nn.ReLU(),\n",
    "    nn.BatchNorm1d(256),\n",
    "    nn.Dropout(0.3),\n",
    "    \n",
    "    # Layer 2: Hidden -> Hidden\n",
    "    nn.Linear(256, 128),\n",
    "    nn.ReLU(),\n",
    "    nn.BatchNorm1d(128),\n",
    "    nn.Dropout(0.3),\n",
    "    \n",
    "    # Layer 3: Hidden -> Hidden\n",
    "    nn.Linear(128, 64),\n",
    "    nn.ReLU(),\n",
    "    nn.BatchNorm1d(64),\n",
    "    nn.Dropout(0.3),\n",
    "    \n",
    "    # Layer 4: Hidden -> Hidden\n",
    "    nn.Linear(64, 32),\n",
    "    nn.ReLU(),\n",
    "    nn.BatchNorm1d(32),\n",
    "    nn.Dropout(0.3),\n",
    "    \n",
    "    # Layer 5: Hidden -> Output\n",
    "    nn.Linear(32, output_size)\n",
    ")"
   ]
  },
  {
   "cell_type": "code",
   "execution_count": 669,
   "metadata": {},
   "outputs": [],
   "source": [
    "train_X_tensor = torch.tensor(train_X, dtype=torch.float32)\n",
    "train_y_tensor = torch.tensor(train_y, dtype=torch.long)\n",
    "test_X_tensor = torch.tensor(test_X, dtype=torch.float32)\n",
    "test_y_tensor = torch.tensor(test_y, dtype=torch.long)"
   ]
  },
  {
   "cell_type": "code",
   "execution_count": 670,
   "metadata": {},
   "outputs": [],
   "source": [
    "learning_rate = 0.001\n",
    "num_epochs = 25\n",
    "batch_size = 32\n",
    "\n",
    "criterion = nn.CrossEntropyLoss()\n",
    "optimizer = torch.optim.Adam(model.parameters(), lr=learning_rate)"
   ]
  },
  {
   "cell_type": "code",
   "execution_count": 671,
   "metadata": {},
   "outputs": [],
   "source": [
    "train_dataset = torch.utils.data.TensorDataset(train_X_tensor, train_y_tensor)\n",
    "train_loader = torch.utils.data.DataLoader(train_dataset, batch_size=batch_size, shuffle=True)\n",
    "test_dataset = torch.utils.data.TensorDataset(test_X_tensor, test_y_tensor)\n",
    "test_loader = torch.utils.data.DataLoader(test_dataset, batch_size=batch_size, shuffle=False)"
   ]
  },
  {
   "cell_type": "code",
   "execution_count": 672,
   "metadata": {},
   "outputs": [
    {
     "name": "stdout",
     "output_type": "stream",
     "text": [
      "Epoch [5/25], Train Loss: 0.7523, Train Acc: 85.71%, Test Loss: 1.1314, Test Acc: 88.89%\n",
      "Epoch [10/25], Train Loss: 0.4988, Train Acc: 95.71%, Test Loss: 0.5083, Test Acc: 100.00%\n",
      "Epoch [15/25], Train Loss: 0.3233, Train Acc: 98.57%, Test Loss: 0.3972, Test Acc: 94.44%\n",
      "Epoch [20/25], Train Loss: 0.3046, Train Acc: 98.57%, Test Loss: 0.3563, Test Acc: 94.44%\n",
      "Epoch [25/25], Train Loss: 0.3739, Train Acc: 97.14%, Test Loss: 0.3623, Test Acc: 88.89%\n"
     ]
    }
   ],
   "source": [
    "# 5. Training loop\n",
    "train_losses = []\n",
    "test_losses = []\n",
    "train_accuracies = []\n",
    "test_accuracies = []\n",
    "\n",
    "for epoch in range(num_epochs):\n",
    "    model.train()  # Set model to training mode\n",
    "    running_loss = 0.0\n",
    "    correct = 0\n",
    "    total = 0\n",
    "    \n",
    "    # Training loop\n",
    "    for inputs, labels in train_loader:\n",
    "        # Zero the parameter gradients\n",
    "        optimizer.zero_grad()\n",
    "        \n",
    "        # Forward pass\n",
    "        outputs = model(inputs)\n",
    "        loss = criterion(outputs, labels)\n",
    "        \n",
    "        # Backward pass and optimize\n",
    "        loss.backward()\n",
    "        optimizer.step()\n",
    "        \n",
    "        # Track statistics\n",
    "        running_loss += loss.item()\n",
    "        _, predicted = torch.max(outputs.data, 1)\n",
    "        total += labels.size(0)\n",
    "        correct += (predicted == labels).sum().item()\n",
    "    \n",
    "    # Calculate epoch statistics\n",
    "    epoch_loss = running_loss / len(train_loader)\n",
    "    epoch_accuracy = 100 * correct / total\n",
    "    train_losses.append(epoch_loss)\n",
    "    train_accuracies.append(epoch_accuracy)\n",
    "    \n",
    "    # Evaluation on test set\n",
    "    model.eval()  # Set model to evaluation mode\n",
    "    with torch.no_grad():\n",
    "        test_outputs = model(test_X_tensor)\n",
    "        test_loss = criterion(test_outputs, test_y_tensor)\n",
    "        _, predicted = torch.max(test_outputs.data, 1)\n",
    "        test_accuracy = 100 * ((predicted == test_y_tensor).sum().item() / test_y_tensor.size(0))\n",
    "        test_losses.append(test_loss.item())\n",
    "        test_accuracies.append(test_accuracy)\n",
    "    \n",
    "    # Print progress\n",
    "    if (epoch + 1) % 5 == 0:\n",
    "        print(f'Epoch [{epoch+1}/{num_epochs}], '\n",
    "              f'Train Loss: {epoch_loss:.4f}, '\n",
    "              f'Train Acc: {epoch_accuracy:.2f}%, '\n",
    "              f'Test Loss: {test_loss:.4f}, '\n",
    "              f'Test Acc: {test_accuracy:.2f}%')"
   ]
  }
 ],
 "metadata": {
  "kernelspec": {
   "display_name": "Python 3",
   "language": "python",
   "name": "python3"
  },
  "language_info": {
   "codemirror_mode": {
    "name": "ipython",
    "version": 3
   },
   "file_extension": ".py",
   "mimetype": "text/x-python",
   "name": "python",
   "nbconvert_exporter": "python",
   "pygments_lexer": "ipython3",
   "version": "3.11.11"
  }
 },
 "nbformat": 4,
 "nbformat_minor": 2
}
